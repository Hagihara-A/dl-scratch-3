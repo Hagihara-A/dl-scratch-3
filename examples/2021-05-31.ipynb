{
 "cells": [
  {
   "cell_type": "code",
   "execution_count": null,
   "id": "6d2db816",
   "metadata": {
    "slideshow": {
     "slide_type": "skip"
    }
   },
   "outputs": [],
   "source": [
    "import dezero as dz\n",
    "from dezero import Variable\n",
    "import numpy as np"
   ]
  },
  {
   "cell_type": "markdown",
   "id": "5825be07",
   "metadata": {
    "slideshow": {
     "slide_type": "slide"
    }
   },
   "source": [
    "# progress report\n",
    "deep learning from scratch 3(65%)\n",
    "\n",
    "# What can I do?\n",
    "1. calculate differencial of simple function(even higher order).\n",
    "1. show calculation-flow as graph"
   ]
  },
  {
   "cell_type": "markdown",
   "id": "060ec67a",
   "metadata": {
    "slideshow": {
     "slide_type": "slide"
    }
   },
   "source": [
    "# Calculate differential\n",
    "$$\n",
    "y = 4x^3 + 9x^2 + 5x + 10 \\\\\n",
    "\\frac{dy}{dx} = 12x^2+18x + 5 \\\\\n",
    "\\left. \\frac{dy}{dx}\\right|_{x=2}= 89 \\\\\n",
    "$$"
   ]
  },
  {
   "cell_type": "code",
   "execution_count": null,
   "id": "92b0aeee",
   "metadata": {
    "slideshow": {
     "slide_type": "fragment"
    }
   },
   "outputs": [],
   "source": [
    "x = Variable(np.array(2.0))\n",
    "y = 4 * x**3 + 9* x**2 + 5*x + 10\n",
    "y.backward(create_graph=True)\n",
    "gx = x.grad\n",
    "print(gx.data)\n",
    "print(\"hello\")"
   ]
  },
  {
   "cell_type": "markdown",
   "id": "a53c1b65",
   "metadata": {
    "slideshow": {
     "slide_type": "slide"
    }
   },
   "source": [
    "$$\n",
    "\\frac{d^2y}{dx^2} = 24x + 18 \\\\\n",
    "\\left. \\frac{d^2y}{dx^2}\\right|_{x=2}= 66\n",
    "$$"
   ]
  },
  {
   "cell_type": "code",
   "execution_count": null,
   "id": "35ab10e6",
   "metadata": {
    "slideshow": {
     "slide_type": "fragment"
    }
   },
   "outputs": [],
   "source": [
    "x.clear_grad()\n",
    "gx.backward()\n",
    "print(x.grad.data)"
   ]
  },
  {
   "cell_type": "markdown",
   "id": "af7b9008",
   "metadata": {
    "slideshow": {
     "slide_type": "slide"
    }
   },
   "source": [
    "$$y = 12x^2 -67x-55$$\n",
    "This function takes the minimum value when x = 2.79..."
   ]
  },
  {
   "cell_type": "code",
   "execution_count": null,
   "id": "77505266",
   "metadata": {
    "slideshow": {
     "slide_type": "fragment"
    }
   },
   "outputs": [],
   "source": [
    "N = 100\n",
    "lr = 0.01\n",
    "x  =Variable(np.array(2.0))\n",
    "f = lambda x: 12* x**2 - 67*x - 55\n",
    "for _ in range(N):\n",
    "    y = f(x)\n",
    "    y.backward()\n",
    "    x.data -= lr * x.grad.data\n",
    "    x.clear_grad()\n",
    "print(x)\n"
   ]
  },
  {
   "cell_type": "markdown",
   "id": "a1eb6622",
   "metadata": {
    "slideshow": {
     "slide_type": "fragment"
    }
   },
   "source": [
    "I can solve this!"
   ]
  },
  {
   "cell_type": "markdown",
   "id": "20385a92",
   "metadata": {
    "slideshow": {
     "slide_type": "slide"
    }
   },
   "source": [
    "# show calculation-flow as graph\n",
    "Consider about previous formula: $y = 12x^2 -67x-55$.\n",
    "\n",
    "This calculation is showed as following\n",
    "\n",
    "<img src=\"graph.png\" height=\"500\">\n",
    "\n"
   ]
  },
  {
   "cell_type": "code",
   "execution_count": 1,
   "id": "26f7cc3d",
   "metadata": {},
   "outputs": [
    {
     "ename": "AttributeError",
     "evalue": "'NoneType' object has no attribute 'data'",
     "output_type": "error",
     "traceback": [
      "\u001b[0;31m---------------------------------------------------------------------------\u001b[0m",
      "\u001b[0;31mAttributeError\u001b[0m                            Traceback (most recent call last)",
      "\u001b[0;32m<ipython-input-1-678aeb955882>\u001b[0m in \u001b[0;36m<module>\u001b[0;34m\u001b[0m\n\u001b[1;32m     33\u001b[0m     \u001b[0mloss\u001b[0m\u001b[0;34m.\u001b[0m\u001b[0mclear_grad\u001b[0m\u001b[0;34m(\u001b[0m\u001b[0;34m)\u001b[0m\u001b[0;34m\u001b[0m\u001b[0;34m\u001b[0m\u001b[0m\n\u001b[1;32m     34\u001b[0m \u001b[0;34m\u001b[0m\u001b[0m\n\u001b[0;32m---> 35\u001b[0;31m     \u001b[0mW1\u001b[0m\u001b[0;34m.\u001b[0m\u001b[0mdata\u001b[0m \u001b[0;34m-=\u001b[0m \u001b[0mlr\u001b[0m \u001b[0;34m*\u001b[0m \u001b[0mW1\u001b[0m\u001b[0;34m.\u001b[0m\u001b[0mgrad\u001b[0m\u001b[0;34m.\u001b[0m\u001b[0mdata\u001b[0m\u001b[0;34m\u001b[0m\u001b[0;34m\u001b[0m\u001b[0m\n\u001b[0m\u001b[1;32m     36\u001b[0m     \u001b[0mb1\u001b[0m\u001b[0;34m.\u001b[0m\u001b[0mdata\u001b[0m \u001b[0;34m-=\u001b[0m \u001b[0mlr\u001b[0m\u001b[0;34m*\u001b[0m\u001b[0mb1\u001b[0m\u001b[0;34m.\u001b[0m\u001b[0mgrad\u001b[0m\u001b[0;34m.\u001b[0m\u001b[0mdata\u001b[0m\u001b[0;34m\u001b[0m\u001b[0;34m\u001b[0m\u001b[0m\n\u001b[1;32m     37\u001b[0m     \u001b[0mW2\u001b[0m\u001b[0;34m.\u001b[0m\u001b[0mdata\u001b[0m \u001b[0;34m-=\u001b[0m \u001b[0mlr\u001b[0m\u001b[0;34m*\u001b[0m\u001b[0mW2\u001b[0m\u001b[0;34m.\u001b[0m\u001b[0mgrad\u001b[0m\u001b[0;34m.\u001b[0m\u001b[0mdata\u001b[0m\u001b[0;34m\u001b[0m\u001b[0;34m\u001b[0m\u001b[0m\n",
      "\u001b[0;31mAttributeError\u001b[0m: 'NoneType' object has no attribute 'data'"
     ]
    }
   ],
   "source": [
    "from dezero import Variable\n",
    "import dezero.functions as F\n",
    "import numpy as np\n",
    "np.random.seed(0)\n",
    "x = np.random.rand(100, 1)\n",
    "y = np.sin(2 * np.pi * x) + np.random.rand(100, 1)\n",
    "\n",
    "I, H, O = 1, 10, 1\n",
    "W1 = Variable(0.01*np.random.randn(I, H))\n",
    "b1 = Variable(np.zeros(H))\n",
    "W2 = Variable(0.01*np.random.randn(H, O))\n",
    "b2 = Variable(np.zeros(O))\n",
    "\n",
    "\n",
    "def predict(x):\n",
    "    y = F.linear(x, W1, b1)\n",
    "    y = F.sigmoid(y)\n",
    "    y = F.linear(y, W2, b2)\n",
    "    return y\n",
    "\n",
    "\n",
    "lr = 0.2\n",
    "iters = 10000\n",
    "\n",
    "for i in range(iters):\n",
    "    y_pred = predict(y)\n",
    "    loss = F.mean_squared_error(y, y_pred)\n",
    "\n",
    "    W1.clear_grad()\n",
    "    b1.clear_grad()\n",
    "    W2.clear_grad()\n",
    "    b2.clear_grad()\n",
    "    loss.clear_grad()\n",
    "\n",
    "    W1.data -= lr * W1.grad.data\n",
    "    b1.data -= lr*b1.grad.data\n",
    "    W2.data -= lr*W2.grad.data\n",
    "    b2 -= lr * b2.grad.data\n",
    "    if (i % 100 == 0):\n",
    "        print(loss)\n"
   ]
  },
  {
   "cell_type": "code",
   "execution_count": null,
   "id": "d22a7fae",
   "metadata": {},
   "outputs": [],
   "source": []
  }
 ],
 "metadata": {
  "celltoolbar": "スライドショー",
  "kernelspec": {
   "display_name": "Python 3",
   "language": "python",
   "name": "python3"
  },
  "language_info": {
   "codemirror_mode": {
    "name": "ipython",
    "version": 3
   },
   "file_extension": ".py",
   "mimetype": "text/x-python",
   "name": "python",
   "nbconvert_exporter": "python",
   "pygments_lexer": "ipython3",
   "version": "3.9.5"
  }
 },
 "nbformat": 4,
 "nbformat_minor": 5
}
