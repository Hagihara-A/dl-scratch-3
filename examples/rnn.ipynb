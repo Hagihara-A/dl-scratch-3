{
 "metadata": {
  "language_info": {
   "codemirror_mode": {
    "name": "ipython",
    "version": 3
   },
   "file_extension": ".py",
   "mimetype": "text/x-python",
   "name": "python",
   "nbconvert_exporter": "python",
   "pygments_lexer": "ipython3",
   "version": "3.9.5"
  },
  "orig_nbformat": 2,
  "kernelspec": {
   "name": "pythonjvsc74a57bd09ae9af956ead1566f13a1f7974c005b386e9ee9f0e9e96b348213ed195e69c6d",
   "display_name": "Python 3.9.5  ('.venv': pipenv)"
  },
  "metadata": {
   "interpreter": {
    "hash": "9ae9af956ead1566f13a1f7974c005b386e9ee9f0e9e96b348213ed195e69c6d"
   }
  }
 },
 "nbformat": 4,
 "nbformat_minor": 2,
 "cells": [
  {
   "cell_type": "code",
   "execution_count": 1,
   "metadata": {},
   "outputs": [],
   "source": [
    "import sys, os\n",
    "from pathlib import Path\n",
    "current_dir = os.path.join(Path().resolve())\n",
    "sys.path.append(str(current_dir) + '/../')"
   ]
  },
  {
   "cell_type": "code",
   "execution_count": 2,
   "metadata": {},
   "outputs": [
    {
     "output_type": "stream",
     "name": "stdout",
     "text": [
      "(1, 10)\n"
     ]
    }
   ],
   "source": [
    "import numpy as np\n",
    "import dezero.layers as L\n",
    "\n",
    "rnn = L.RNN(10)\n",
    "x = np.random.rand(1,1)\n",
    "h = rnn(x)\n",
    "print(h.shape)"
   ]
  },
  {
   "cell_type": "code",
   "execution_count": 3,
   "metadata": {},
   "outputs": [],
   "source": [
    "seq_data = [np.random.randn(1, 1) for _ in range(1000)]\n",
    "xs = seq_data[0:-1]\n",
    "ts = seq_data[1:]\n",
    "\n",
    "from dezero.models import SimpleRNN\n",
    "import dezero.functions as F\n",
    "model = SimpleRNN(10, 1)\n",
    "\n",
    "loss , cnt = 0, 0\n",
    "\n",
    "for x, t in zip(xs, ts):\n",
    "    y= model(x)\n",
    "    loss += F.mean_squared_error(y, t)\n",
    "    cnt += 1\n",
    "    if cnt == 2:\n",
    "        model.clear_grads()\n",
    "        loss.backward()\n",
    "        break\n"
   ]
  },
  {
   "cell_type": "code",
   "execution_count": null,
   "metadata": {},
   "outputs": [],
   "source": []
  }
 ]
}